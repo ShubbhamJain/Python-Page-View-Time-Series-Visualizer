{
 "cells": [
  {
   "cell_type": "code",
   "execution_count": null,
   "metadata": {},
   "outputs": [],
   "source": [
    "import matplotlib.pyplot as plt\n",
    "import pandas as pd\n",
    "import seaborn as sns\n",
    "from pandas.plotting import register_matplotlib_converters\n",
    "\n",
    "register_matplotlib_converters()\n",
    "\n",
    "df = pd.read_csv('./fcc-forum-pageviews.csv', parse_dates=[0]).set_index('date')"
   ]
  },
  {
   "cell_type": "code",
   "execution_count": null,
   "metadata": {},
   "outputs": [],
   "source": [
    "df = df[\n",
    "    (df[\"value\"] >= df[\"value\"].quantile(0.025))\n",
    "    & (df[\"value\"] <= df[\"value\"].quantile(0.975))\n",
    "]"
   ]
  },
  {
   "cell_type": "code",
   "execution_count": null,
   "metadata": {},
   "outputs": [],
   "source": [
    "fig, ax = plt.subplots(figsize=(20, 10))\n",
    "plt.plot(df, color='red')\n",
    "plt.title('Daily freeCodeCamp Forum Page Views 5/2016-12/2019')\n",
    "plt.xlabel('Date')\n",
    "plt.ylabel('Page Views')"
   ]
  },
  {
   "cell_type": "code",
   "execution_count": null,
   "metadata": {},
   "outputs": [],
   "source": [
    "months=['January', 'February', 'March', 'April', 'May', 'June', 'July', 'August', 'September', 'October', 'November', 'December']\n",
    "\n",
    "df.index = pd.to_datetime(df.index, format=\"%Y-%m-%d\")\n",
    "newDf = df.copy()\n",
    "\n",
    "newDf['year'] = newDf.index.year\n",
    "newDf['Month'] = newDf.index.month\n",
    "completedDf = newDf.groupby(['year', 'Month'])\n",
    "completedDf = completedDf.mean()\n",
    "completedDf = completedDf.unstack()\n",
    "\n",
    "fig = completedDf.plot(kind='bar', figsize=(10, 5)).figure\n",
    "plt.xlabel('Years')\n",
    "plt.ylabel('Average Page Views')\n",
    "plt.legend(fontsize=10, title='Months' , labels=months)"
   ]
  },
  {
   "cell_type": "code",
   "execution_count": null,
   "metadata": {},
   "outputs": [],
   "source": [
    "df_box = df.copy()\n",
    "df_box.reset_index(inplace=True)\n",
    "df_box[\"year\"] = [d.year for d in df_box.date]\n",
    "df_box[\"month\"] = [d.strftime(\"%b\") for d in df_box.date]\n",
    "\n",
    "df_box.sort_values(by=['year', 'date'], ascending=[False, True], inplace=True)\n",
    "\n",
    "fig, (ax_year, ax_month) = plt.subplots(1, 2)\n",
    "\n",
    "fig.set_figwidth(15)\n",
    "fig.set_figheight(7)\n",
    "\n",
    "ax_year = sns.boxplot(x=df_box.year, y=df_box.value, ax=ax_year)\n",
    "ax_year.set_xlabel('Year')\n",
    "ax_year.set_ylabel('Page Views')\n",
    "ax_year.set_title('Year-wise Box Plot (Trend)')\n",
    "\n",
    "ax_month = sns.boxplot(x='month', y='year', data=df_box, ax=ax_month)\n",
    "ax_month.set_xlabel('Month')\n",
    "ax_month.set_ylabel('Page Views')\n",
    "ax_month.set_title('Month-wise Box Plot (Seasonality)')"
   ]
  }
 ],
 "metadata": {
  "interpreter": {
   "hash": "b0fa6594d8f4cbf19f97940f81e996739fb7646882a419484c72d19e05852a7e"
  },
  "kernelspec": {
   "display_name": "Python 3.9.10 64-bit",
   "language": "python",
   "name": "python3"
  },
  "language_info": {
   "codemirror_mode": {
    "name": "ipython",
    "version": 3
   },
   "file_extension": ".py",
   "mimetype": "text/x-python",
   "name": "python",
   "nbconvert_exporter": "python",
   "pygments_lexer": "ipython3",
   "version": "3.9.10"
  },
  "orig_nbformat": 4
 },
 "nbformat": 4,
 "nbformat_minor": 2
}
